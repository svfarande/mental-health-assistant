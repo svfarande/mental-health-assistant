{
 "cells": [
  {
   "cell_type": "code",
   "execution_count": 1,
   "metadata": {},
   "outputs": [],
   "source": [
    "import os\n",
    "from dotenv import load_dotenv,find_dotenv\n",
    "load_dotenv(find_dotenv())\n",
    "\n",
    "from langchain_community.document_loaders import DirectoryLoader\n",
    "from langchain_community.document_loaders import PyPDFLoader\n",
    "from langchain_text_splitters import RecursiveCharacterTextSplitter\n",
    "from langchain_openai.chat_models import ChatOpenAI\n",
    "from langchain_openai import OpenAI\n",
    "from langchain_core.prompts.prompt import PromptTemplate\n",
    "from langchain.chains.conversational_retrieval.base import ConversationalRetrievalChain\n",
    "from langchain_chroma import Chroma\n"
   ]
  },
  {
   "cell_type": "code",
   "execution_count": 2,
   "metadata": {},
   "outputs": [],
   "source": [
    "os.environ['OPENAI_API_KEY']=os.environ.get('OPENAI_API_KEY')"
   ]
  },
  {
   "cell_type": "code",
   "execution_count": 3,
   "metadata": {},
   "outputs": [],
   "source": [
    "model = ChatOpenAI()"
   ]
  },
  {
   "cell_type": "code",
   "execution_count": 8,
   "metadata": {},
   "outputs": [],
   "source": [
    "# Load CSV files\n",
    "csv_loader = DirectoryLoader('dataset', glob=\"**/*.csv\")\n",
    "pdf_loader1 = PyPDFLoader('dataset/CBSE_MH_Manual.pdf')\n",
    "pdf_loader2 = PyPDFLoader('dataset/MentalHealthWorkbook_7Books.pdf')\n",
    "pdf_loader3 = PyPDFLoader('dataset/MentalWellnessAHolisticApproachToMentalHealthAndHealing.pdf')\n",
    "\n",
    "all_documents = []\n",
    "all_documents.extend(csv_loader.load())\n",
    "all_documents.extend(pdf_loader1.load())\n",
    "all_documents.extend(pdf_loader2.load())\n",
    "all_documents.extend(pdf_loader3.load())"
   ]
  },
  {
   "cell_type": "code",
   "execution_count": 9,
   "metadata": {},
   "outputs": [],
   "source": [
    "# splitting the document\n",
    "text_splitter = RecursiveCharacterTextSplitter(chunk_size=1000, \n",
    "                                      chunk_overlap=300)\n",
    "texts = text_splitter.split_documents(all_documents)"
   ]
  },
  {
   "cell_type": "code",
   "execution_count": 10,
   "metadata": {},
   "outputs": [
    {
     "name": "stderr",
     "output_type": "stream",
     "text": [
      "/home/employee/Desktop/Hachathon/mha-llm/hackvenv/lib/python3.10/site-packages/langchain_core/_api/deprecation.py:119: LangChainDeprecationWarning: The class `HuggingFaceEmbeddings` was deprecated in LangChain 0.2.2 and will be removed in 0.3.0. An updated version of the class exists in the langchain-huggingface package and should be used instead. To use it run `pip install -U langchain-huggingface` and import as `from langchain_huggingface import HuggingFaceEmbeddings`.\n",
      "  warn_deprecated(\n",
      "/home/employee/Desktop/Hachathon/mha-llm/hackvenv/lib/python3.10/site-packages/sentence_transformers/cross_encoder/CrossEncoder.py:11: TqdmExperimentalWarning: Using `tqdm.autonotebook.tqdm` in notebook mode. Use `tqdm.tqdm` instead to force console mode (e.g. in jupyter console)\n",
      "  from tqdm.autonotebook import tqdm, trange\n",
      "/home/employee/Desktop/Hachathon/mha-llm/hackvenv/lib/python3.10/site-packages/huggingface_hub/file_download.py:1132: FutureWarning: `resume_download` is deprecated and will be removed in version 1.0.0. Downloads always resume when possible. If you want to force a new download, use `force_download=True`.\n",
      "  warnings.warn(\n"
     ]
    }
   ],
   "source": [
    "# create the open-source embedding function\n",
    "embedding_function = SentenceTransformerEmbeddings(model_name=\"all-MiniLM-L6-v2\")\n",
    "\n",
    "# load it into Chroma\n",
    "db = Chroma.from_documents(texts, embedding_function)"
   ]
  },
  {
   "cell_type": "code",
   "execution_count": 27,
   "metadata": {},
   "outputs": [],
   "source": [
    "# query it\n",
    "query = \"Is yoga good for mental health\"\n"
   ]
  },
  {
   "cell_type": "code",
   "execution_count": 18,
   "metadata": {},
   "outputs": [
    {
     "name": "stdout",
     "output_type": "stream",
     "text": [
      "Learn to set healthy boundaries: Talk to your employer about your concerns and try to establish clear expectations around your workload and compensation. If necessary, seek support from a mentor or professional advisor.\\n4. Cultivate positive thinking: Try to focus on the things that you are grateful for and the control that you do have in your life. Engage in positive self-talk and surround yourself with supportive people.\\n5. Use problem-solving skills: Identify the root cause of your stressors, and brainstorm possible solutions. This can help you feel more in control and empowered in the situation.\\nRemember, managing stress is an ongoing process that requires consistent effort and self-care. It's important to stay committed to your stress management strategies, even in challenging times.\n"
     ]
    }
   ],
   "source": [
    "# docs = db.similarity_search(query)\n",
    "# print(docs[0].page_content)"
   ]
  },
  {
   "cell_type": "code",
   "execution_count": 19,
   "metadata": {},
   "outputs": [],
   "source": [
    "# save to disk\n",
    "db2 = Chroma.from_documents(texts, embedding_function, persist_directory=\"./chroma_db\")"
   ]
  },
  {
   "cell_type": "code",
   "execution_count": 37,
   "metadata": {},
   "outputs": [
    {
     "name": "stdout",
     "output_type": "stream",
     "text": [
      "body awareness, and an enhanced sense of vitality. Often, \n",
      "practitioners experience a reduction in insomnia and more \n",
      "restful sleep. Yoga has also been shown to increase the level \n",
      "of gamma-aminobutyric acid (GABA), a chemical in the brain \n",
      "that helps to regulate nerve activity. This is especially helpful \n",
      "for anxiety sufferers, who can have low levels of GABA. There \n",
      "is also evidence that yoga can help to reduce symptoms of \n",
      "anxiety and low mood in those suffering from depression. \n",
      "And, with practice, the process of meditation (see p.206), in \n",
      "which we continually let go of any thoughts that arrive, \n",
      "brings us closer to feeling centered and peaceful.\n",
      "“Yoga  practice  promotes  \n",
      "r ela xa tion, a mor e po si tive \n",
      "outlook, and an enhanced \n",
      "se n se o f vi tali ty. ”\n",
      "US_184-185_Yoga.indd   184US_184-185_Yoga.indd   184 30/11/2020   11:50am30/11/2020   11:50am\n"
     ]
    }
   ],
   "source": [
    "\n",
    "docs = db2.similarity_search(query)\n",
    "print(docs[0].page_content)"
   ]
  },
  {
   "cell_type": "code",
   "execution_count": 22,
   "metadata": {},
   "outputs": [],
   "source": [
    "# load from disk\n",
    "db3 = Chroma(persist_directory=\"./chroma_db\", embedding_function=embedding_function)"
   ]
  },
  {
   "cell_type": "code",
   "execution_count": 28,
   "metadata": {},
   "outputs": [
    {
     "name": "stdout",
     "output_type": "stream",
     "text": [
      "body awareness, and an enhanced sense of vitality. Often, \n",
      "practitioners experience a reduction in insomnia and more \n",
      "restful sleep. Yoga has also been shown to increase the level \n",
      "of gamma-aminobutyric acid (GABA), a chemical in the brain \n",
      "that helps to regulate nerve activity. This is especially helpful \n",
      "for anxiety sufferers, who can have low levels of GABA. There \n",
      "is also evidence that yoga can help to reduce symptoms of \n",
      "anxiety and low mood in those suffering from depression. \n",
      "And, with practice, the process of meditation (see p.206), in \n",
      "which we continually let go of any thoughts that arrive, \n",
      "brings us closer to feeling centered and peaceful.\n",
      "“Yoga  practice  promotes  \n",
      "r ela xa tion, a mor e po si tive \n",
      "outlook, and an enhanced \n",
      "se n se o f vi tali ty. ”\n",
      "US_184-185_Yoga.indd   184US_184-185_Yoga.indd   184 30/11/2020   11:50am30/11/2020   11:50am\n"
     ]
    }
   ],
   "source": [
    "docs = db3.similarity_search(query)\n",
    "print(docs[0].page_content)"
   ]
  },
  {
   "cell_type": "code",
   "execution_count": 36,
   "metadata": {},
   "outputs": [],
   "source": [
    "template = \"\"\"\n",
    "The following tool combines the power of AI-powered conversation with creative expression tools to empower individuals in their journey toward mental well-being. It's crucial to remember that this application should never be a substitute for professional medical advice or therapy.\n",
    "\n",
    "Use the following pieces of context to answer the question at the end. If you don't know the answer, just say that you don't know, don't try to make up an answer.\n",
    "\n",
    "\n",
    "{context}\n",
    "\n",
    "Question: {question}\n",
    "Helpful Answer:\n",
    "\"\"\"\n",
    "\n",
    "prompt_template = PromptTemplate(\n",
    "    input_variables=['text'], \n",
    "    template=template\n",
    ")"
   ]
  },
  {
   "cell_type": "code",
   "execution_count": 42,
   "metadata": {},
   "outputs": [],
   "source": [
    "retriever = db3.as_retriever(search_type=\"mmr\",\n",
    "                          search_kwargs={'k': 5, 'fetch_k': 20})\n",
    "\n",
    "qa = ConversationalRetrievalChain.from_llm(\n",
    "    llm=OpenAI(temperature=0,\n",
    "               max_tokens=512),\n",
    "    retriever=retriever,\n",
    "    return_source_documents=True,\n",
    "    return_generated_question=True,\n",
    "    \n",
    ")\n",
    "\n",
    "qa.combine_docs_chain.llm_chain.prompt = prompt_template\n",
    "chat_history = []"
   ]
  },
  {
   "cell_type": "code",
   "execution_count": 39,
   "metadata": {},
   "outputs": [
    {
     "name": "stdout",
     "output_type": "stream",
     "text": [
      "combine_docs_chain=StuffDocumentsChain(llm_chain=LLMChain(prompt=PromptTemplate(input_variables=['context', 'question'], template=\"\\nThe following tool combines the power of AI-powered conversation with creative expression tools to empower individuals in their journey toward mental well-being. It's crucial to remember that this application should never be a substitute for professional medical advice or therapy.\\n\\nUse the following pieces of context to answer the question at the end. If you don't know the answer, just say that you don't know, don't try to make up an answer.\\n\\n\\n{context}\\n\\nQuestion: {question}\\nHelpful Answer:\\n\"), llm=OpenAI(client=<openai.resources.completions.Completions object at 0x7d96a5df5810>, async_client=<openai.resources.completions.AsyncCompletions object at 0x7d9616cb2b30>, model_name='gpt-3.5-turbo', temperature=0.0, max_tokens=512, openai_api_key=SecretStr('**********'), openai_proxy='')), document_variable_name='context') question_generator=LLMChain(prompt=PromptTemplate(input_variables=['chat_history', 'question'], template='Given the following conversation and a follow up question, rephrase the follow up question to be a standalone question, in its original language.\\n\\nChat History:\\n{chat_history}\\nFollow Up Input: {question}\\nStandalone question:'), llm=OpenAI(client=<openai.resources.completions.Completions object at 0x7d96a5df5810>, async_client=<openai.resources.completions.AsyncCompletions object at 0x7d9616cb2b30>, model_name='gpt-3.5-turbo', temperature=0.0, max_tokens=512, openai_api_key=SecretStr('**********'), openai_proxy='')) return_source_documents=True return_generated_question=True retriever=VectorStoreRetriever(tags=['Chroma', 'HuggingFaceEmbeddings'], vectorstore=<langchain_chroma.vectorstores.Chroma object at 0x7d9642bb3b20>, search_type='mmr', search_kwargs={'k': 5, 'fetch_k': 20})\n"
     ]
    }
   ],
   "source": [
    "print(qa)"
   ]
  },
  {
   "cell_type": "code",
   "execution_count": 43,
   "metadata": {},
   "outputs": [
    {
     "name": "stdout",
     "output_type": "stream",
     "text": [
      "\n",
      "There is no one \"better\" type of yoga for mental health, as different types of yoga can offer different benefits. However, Hatha yoga is often recommended for its focus on relaxation and flexibility, while Ashtanga yoga can be beneficial for building strength and endurance. Ultimately, the best type of yoga for mental health will depend on an individual's specific needs and preferences.\n"
     ]
    }
   ],
   "source": [
    "question = \"Which yoga is better for mental health?\"\n",
    "result = qa({\"question\": question, \"chat_history\": chat_history})\n",
    "chat_history.extend([(question, result[\"answer\"])])\n",
    "print(result['answer'])"
   ]
  },
  {
   "cell_type": "code",
   "execution_count": 44,
   "metadata": {},
   "outputs": [
    {
     "name": "stdout",
     "output_type": "stream",
     "text": [
      "[('Which yoga is better for mental health?', '\\nThere is no one \"better\" type of yoga for mental health, as different types of yoga can offer different benefits. However, Hatha yoga is often recommended for its focus on relaxation and flexibility, while Ashtanga yoga can be beneficial for building strength and endurance. Ultimately, the best type of yoga for mental health will depend on an individual\\'s specific needs and preferences.')]\n"
     ]
    }
   ],
   "source": [
    "print(chat_history)"
   ]
  },
  {
   "cell_type": "code",
   "execution_count": 45,
   "metadata": {},
   "outputs": [
    {
     "name": "stdout",
     "output_type": "stream",
     "text": [
      "\n",
      "There is no set frequency for practicing yoga for mental health as it can vary for each individual. Some people may benefit from practicing daily, while others may find a few times a week to be sufficient. It's important to listen to your body and find a routine that works best for you. It's also important to consult with a professional if you have any underlying health conditions before starting a new exercise routine.\n"
     ]
    }
   ],
   "source": [
    "question = \"How often do we need to do it?\"\n",
    "result = qa({\"question\": question, \"chat_history\": chat_history})\n",
    "chat_history.extend([(question, result[\"answer\"])])\n",
    "print(result['answer'])\n"
   ]
  },
  {
   "cell_type": "code",
   "execution_count": 46,
   "metadata": {},
   "outputs": [
    {
     "name": "stdout",
     "output_type": "stream",
     "text": [
      "[('Which yoga is better for mental health?', '\\nThere is no one \"better\" type of yoga for mental health, as different types of yoga can offer different benefits. However, Hatha yoga is often recommended for its focus on relaxation and flexibility, while Ashtanga yoga can be beneficial for building strength and endurance. Ultimately, the best type of yoga for mental health will depend on an individual\\'s specific needs and preferences.'), ('How often do we need to do it?', \"\\nThere is no set frequency for practicing yoga for mental health as it can vary for each individual. Some people may benefit from practicing daily, while others may find a few times a week to be sufficient. It's important to listen to your body and find a routine that works best for you. It's also important to consult with a professional if you have any underlying health conditions before starting a new exercise routine.\")]\n"
     ]
    }
   ],
   "source": [
    "print(chat_history)"
   ]
  },
  {
   "cell_type": "code",
   "execution_count": 47,
   "metadata": {},
   "outputs": [
    {
     "name": "stdout",
     "output_type": "stream",
     "text": [
      "As an AI, I am not qualified to give medical advice. It is important to consult with a healthcare professional before starting any new exercise regimen. However, studies have shown that regular yoga practice can have positive effects on mental health, including reducing stress and improving mood. It is recommended to aim for about 150 minutes of moderate- to high-intensity activity per week, which can be achieved through 30 minutes of yoga practice five times a week. However, the frequency and intensity of yoga practice may vary for each individual, so it is important to listen to your body and adjust accordingly.\n"
     ]
    }
   ],
   "source": [
    "question = \"I am a 24 year old male, now tell me\"\n",
    "result = qa({\"question\": question, \"chat_history\": chat_history})\n",
    "chat_history.extend([(question, result[\"answer\"])])\n",
    "print(result['answer'])"
   ]
  },
  {
   "cell_type": "code",
   "execution_count": 48,
   "metadata": {},
   "outputs": [
    {
     "name": "stdout",
     "output_type": "stream",
     "text": [
      "[('Which yoga is better for mental health?', '\\nThere is no one \"better\" type of yoga for mental health, as different types of yoga can offer different benefits. However, Hatha yoga is often recommended for its focus on relaxation and flexibility, while Ashtanga yoga can be beneficial for building strength and endurance. Ultimately, the best type of yoga for mental health will depend on an individual\\'s specific needs and preferences.'), ('How often do we need to do it?', \"\\nThere is no set frequency for practicing yoga for mental health as it can vary for each individual. Some people may benefit from practicing daily, while others may find a few times a week to be sufficient. It's important to listen to your body and find a routine that works best for you. It's also important to consult with a professional if you have any underlying health conditions before starting a new exercise routine.\"), ('I am a 24 year old male, now tell me', 'As an AI, I am not qualified to give medical advice. It is important to consult with a healthcare professional before starting any new exercise regimen. However, studies have shown that regular yoga practice can have positive effects on mental health, including reducing stress and improving mood. It is recommended to aim for about 150 minutes of moderate- to high-intensity activity per week, which can be achieved through 30 minutes of yoga practice five times a week. However, the frequency and intensity of yoga practice may vary for each individual, so it is important to listen to your body and adjust accordingly.')]\n"
     ]
    }
   ],
   "source": [
    "print(chat_history)"
   ]
  },
  {
   "cell_type": "code",
   "execution_count": null,
   "metadata": {},
   "outputs": [],
   "source": []
  }
 ],
 "metadata": {
  "kernelspec": {
   "display_name": "hackvenv",
   "language": "python",
   "name": "python3"
  },
  "language_info": {
   "codemirror_mode": {
    "name": "ipython",
    "version": 3
   },
   "file_extension": ".py",
   "mimetype": "text/x-python",
   "name": "python",
   "nbconvert_exporter": "python",
   "pygments_lexer": "ipython3",
   "version": "3.10.12"
  }
 },
 "nbformat": 4,
 "nbformat_minor": 2
}
